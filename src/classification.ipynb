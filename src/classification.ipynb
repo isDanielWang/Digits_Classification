{
 "cells": [
  {
   "cell_type": "markdown",
   "metadata": {},
   "source": [
    "## CS5487 Course Project\n",
    "### Digits Classification on MNIST Dataset.\n",
    "\n",
    "Name: Shiwei Chen, Shixiang Wang \\\n",
    "Contact: \\{shiwechen6-c\\}@my.cityu.edu.hk"
   ]
  },
  {
   "cell_type": "markdown",
   "metadata": {},
   "source": []
  }
 ],
 "metadata": {
  "language_info": {
   "name": "python"
  },
  "orig_nbformat": 4
 },
 "nbformat": 4,
 "nbformat_minor": 2
}
